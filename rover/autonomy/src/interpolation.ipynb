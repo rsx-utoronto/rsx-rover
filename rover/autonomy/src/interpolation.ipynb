{
 "cells": [
  {
   "cell_type": "code",
   "execution_count": 14,
   "metadata": {},
   "outputs": [],
   "source": [
    "import numpy as np\n",
    "import open3d as o3d\n",
    "from scipy.interpolate import RBFInterpolator"
   ]
  },
  {
   "cell_type": "markdown",
   "metadata": {},
   "source": [
    "Load PCD --> np array"
   ]
  },
  {
   "cell_type": "code",
   "execution_count": 15,
   "metadata": {},
   "outputs": [],
   "source": [
    "pcd = o3d.io.read_point_cloud(\"../tests/pcd/test_pcd.pcd\")\n",
    "points = np.asarray(pcd.points)"
   ]
  },
  {
   "cell_type": "code",
   "execution_count": 16,
   "metadata": {},
   "outputs": [
    {
     "data": {
      "text/plain": [
       "(38721, 3)"
      ]
     },
     "execution_count": 16,
     "metadata": {},
     "output_type": "execute_result"
    }
   ],
   "source": [
    "points.shape"
   ]
  },
  {
   "cell_type": "markdown",
   "metadata": {},
   "source": [
    "Perform Radial basis function (RBF) interpolation "
   ]
  },
  {
   "cell_type": "code",
   "execution_count": 17,
   "metadata": {},
   "outputs": [],
   "source": [
    "xy = points[:, :2]\n",
    "z = points[:,2]"
   ]
  },
  {
   "cell_type": "code",
   "execution_count": 18,
   "metadata": {},
   "outputs": [],
   "source": [
    "interpolator = RBFInterpolator(xy, z)"
   ]
  },
  {
   "cell_type": "markdown",
   "metadata": {},
   "source": [
    "Generate New Points to desired Geometry"
   ]
  },
  {
   "cell_type": "code",
   "execution_count": 19,
   "metadata": {},
   "outputs": [],
   "source": [
    "radius = 10 # meters\n",
    "n_points = 50000 # num new points to generate\n",
    "elevation = 1 # generate points +- this value in z\n",
    "\n",
    "int_xy = np.zeros((n_points, 2))\n",
    "\n",
    "i = 0\n",
    "while i < n_points:\n",
    "    seed = np.random.uniform([-radius, -radius, -elevation], [radius, radius, elevation])\n",
    "    \n",
    "    if np.linalg.norm(seed[:2]) <= radius: #if new point is within radius to origin\n",
    "        int_xy[i] = seed[:2]\n",
    "        i+=1\n"
   ]
  },
  {
   "cell_type": "markdown",
   "metadata": {},
   "source": [
    "Interpolate New Points"
   ]
  },
  {
   "cell_type": "code",
   "execution_count": 20,
   "metadata": {},
   "outputs": [],
   "source": [
    "int_z = interpolator(int_xy)"
   ]
  },
  {
   "cell_type": "code",
   "execution_count": 21,
   "metadata": {},
   "outputs": [],
   "source": [
    "int_points = np.hstack([int_xy, int_z[:, None]])\n",
    "\n",
    "# Combine original with new\n",
    "combined_points =  np.concatenate([points, int_points], axis=0)"
   ]
  },
  {
   "cell_type": "markdown",
   "metadata": {},
   "source": [
    "Write to PCD"
   ]
  },
  {
   "cell_type": "code",
   "execution_count": 22,
   "metadata": {},
   "outputs": [
    {
     "data": {
      "text/plain": [
       "True"
      ]
     },
     "execution_count": 22,
     "metadata": {},
     "output_type": "execute_result"
    }
   ],
   "source": [
    "# Write new, combined\n",
    "pcd_writer = o3d.geometry.PointCloud()\n",
    "\n",
    "pcd_writer.points = o3d.utility.Vector3dVector(int_points)\n",
    "o3d.io.write_point_cloud(\"new.pcd\", pcd_writer, write_ascii=True)\n",
    "\n",
    "\n",
    "pcd_writer.points = o3d.utility.Vector3dVector(combined_points)\n",
    "o3d.io.write_point_cloud(\"combined.pcd\", pcd_writer, write_ascii=True)"
   ]
  }
 ],
 "metadata": {
  "kernelspec": {
   "display_name": "Python 3",
   "language": "python",
   "name": "python3"
  },
  "language_info": {
   "codemirror_mode": {
    "name": "ipython",
    "version": 3
   },
   "file_extension": ".py",
   "mimetype": "text/x-python",
   "name": "python",
   "nbconvert_exporter": "python",
   "pygments_lexer": "ipython3",
   "version": "3.8.10"
  },
  "orig_nbformat": 4
 },
 "nbformat": 4,
 "nbformat_minor": 2
}
